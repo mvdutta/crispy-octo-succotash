{
 "cells": [
  {
   "cell_type": "code",
   "execution_count": 3,
   "id": "1cdbb257",
   "metadata": {},
   "outputs": [
    {
     "name": "stdout",
     "output_type": "stream",
     "text": [
      "Task completed\n"
     ]
    }
   ],
   "source": [
    "import pandas as pd\n",
    "import datetime\n",
    "import json\n",
    "\n",
    "\n",
    "# read the data and create a list of dictionaries\n",
    "df=pd.read_excel('capstone-resident-weights.xlsx')\n",
    "rows, cols = df.shape\n",
    "headers = [x.strftime(\"%Y-%m-%d\") if isinstance(x, datetime.date) else x for x in list(df.columns)]\n",
    "all_dicts = []\n",
    "for index, row in df.iterrows():\n",
    "    row_dict = []\n",
    "    for i in range(5, cols-1):\n",
    "        entry =   {\n",
    "        \"model\": \"weighttrackingapi.weight\",\n",
    "        \"pk\": 0,\n",
    "        \"fields\": {\n",
    "          \"resident\": row[1],\n",
    "          \"date\": headers[i],\n",
    "          \"weight\": row[i]\n",
    "        }    \n",
    "      }\n",
    "        row_dict.append(entry)  \n",
    "    all_dicts.extend(row_dict)\n",
    "\n",
    "    \n",
    "#add in all the primary keys\n",
    "for pk,entry in enumerate(all_dicts):\n",
    "    entry['pk']=pk+1\n",
    "    \n",
    "# Convert to json\n",
    "json_object = json.dumps(all_dicts, indent=4)\n",
    " \n",
    "# Printing file.json\n",
    "with open(\"weights.json\", \"w\") as outfile:\n",
    "    outfile.write(json_object)\n",
    "print(\"Task completed\")\n"
   ]
  },
  {
   "cell_type": "code",
   "execution_count": 1,
   "id": "c828bd51",
   "metadata": {},
   "outputs": [
    {
     "data": {
      "text/plain": [
       "4"
      ]
     },
     "execution_count": 1,
     "metadata": {},
     "output_type": "execute_result"
    }
   ],
   "source": [
    "2 + 2"
   ]
  },
  {
   "cell_type": "code",
   "execution_count": 2,
   "id": "12c44acd",
   "metadata": {},
   "outputs": [],
   "source": [
    "import pandas as pd"
   ]
  },
  {
   "cell_type": "code",
   "execution_count": null,
   "id": "e54c8792",
   "metadata": {},
   "outputs": [],
   "source": []
  }
 ],
 "metadata": {
  "kernelspec": {
   "display_name": "Python 3 (ipykernel)",
   "language": "python",
   "name": "python3"
  },
  "language_info": {
   "codemirror_mode": {
    "name": "ipython",
    "version": 3
   },
   "file_extension": ".py",
   "mimetype": "text/x-python",
   "name": "python",
   "nbconvert_exporter": "python",
   "pygments_lexer": "ipython3",
   "version": "3.11.0"
  }
 },
 "nbformat": 4,
 "nbformat_minor": 5
}
